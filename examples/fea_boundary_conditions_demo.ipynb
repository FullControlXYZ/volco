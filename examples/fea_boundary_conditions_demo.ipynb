{
 "cells": [
  {
   "cell_type": "markdown",
   "metadata": {},
   "source": [
    "# VOLCO FEA Module Demo\n",
    "\n",
    "This notebook demonstrates the Finite Element Analysis (FEA) capabilities of the VOLCO package. It shows:\n",
    "\n",
    "1. Running a VOLCO simulation to generate a voxel model\n",
    "2. Applying basic boundary conditions for structural analysis\n",
    "3. Using expert boundary conditions for the same setup\n",
    "4. Exporting and importing FEA results\n",
    "\n",
    "All examples use a standard 1% compression test."
   ]
  },
  {
   "cell_type": "markdown",
   "metadata": {},
   "source": [
    "## 1. Setup and Imports"
   ]
  },
  {
   "cell_type": "code",
   "execution_count": null,
   "metadata": {},
   "outputs": [],
   "source": [
    "import os\n",
    "import numpy as np\n",
    "import sys\n",
    "\n",
    "# Add the parent directory to the path if running from examples directory\n",
    "sys.path.append(os.path.abspath('..'))\n",
    "\n",
    "# Import VOLCO and VOLCO FEA modules\n",
    "from volco import run_simulation\n",
    "from volco_fea import (\n",
    "    analyze_voxel_matrix, \n",
    "    Surface, \n",
    "    visualize_fea, \n",
    "    export_visualization,\n",
    "    load_fea_results,\n",
    "    select_nodes_by_predicate\n",
    ")"
   ]
  },
  {
   "cell_type": "markdown",
   "metadata": {},
   "source": [
    "## 2. Run VOLCO Simulation\n",
    "\n",
    "First, we'll run a VOLCO simulation to generate a voxel model. We'll use this model for all FEA examples."
   ]
  },
  {
   "cell_type": "code",
   "execution_count": null,
   "metadata": {},
   "outputs": [],
   "source": [
    "# Create output directory if it doesn't exist\n",
    "os.makedirs(\"Results_volco/fea\", exist_ok=True)\n",
    "\n",
    "# Run VOLCO simulation\n",
    "print(\"Running VOLCO simulation...\")\n",
    "output = run_simulation(\n",
    "    gcode_path='gcode_example.gcode',\n",
    "    printer_config_path='printer_settings.json',\n",
    "    sim_config_path='simulation_settings.json'\n",
    ")\n",
    "\n",
    "# Get the cropped voxel matrix from the simulation output\n",
    "voxel_matrix = output.cropped_voxel_space\n",
    "voxel_size = output._simulation.voxel_size\n",
    "\n",
    "print(f\"Simulation complete. Cropped voxel matrix shape: {voxel_matrix.shape}\")\n",
    "print(f\"Voxel size: {voxel_size} mm\")"
   ]
  },
  {
   "cell_type": "markdown",
   "metadata": {},
   "source": [
    "## 3. Basic Boundary Conditions Example\n",
    "\n",
    "Now we'll run an FEA analysis using basic boundary conditions. We'll apply a 1% compression to the model by:\n",
    "- Fixing the bottom surface (MINUS_Z)\n",
    "- Applying a downward displacement to the top surface (PLUS_Z)"
   ]
  },
  {
   "cell_type": "code",
   "execution_count": null,
   "metadata": {},
   "outputs": [],
   "source": [
    "# Define material properties for PLA\n",
    "material_properties = {\n",
    "    'young_modulus': 2000.0,  # MPa (typical for PLA)\n",
    "    'poisson_ratio': 0.3      # Typical for PLA\n",
    "}\n",
    "\n",
    "# Calculate model height and displacement magnitude (1% of model height)\n",
    "model_height = voxel_matrix.shape[2] * voxel_size\n",
    "displacement_magnitude = model_height * 0.01\n",
    "\n",
    "print(f\"Model height: {model_height:.3f} mm\")\n",
    "print(f\"Applying displacement of {displacement_magnitude:.6f} mm (1% of model height)\")\n",
    "\n",
    "# Define boundary conditions using Simple Mode\n",
    "basic_boundary_conditions = {\n",
    "    'constraints': {\n",
    "        Surface.MINUS_Z: \"fix\",  # Fix bottom surface\n",
    "        Surface.PLUS_Z: [None, None, -displacement_magnitude, None, None, None]  # Apply 1% compression on top\n",
    "    }\n",
    "}\n",
    "\n",
    "# Run the analysis with basic boundary conditions\n",
    "print(\"\\nRunning FEA analysis with basic boundary conditions...\")\n",
    "basic_results = analyze_voxel_matrix(\n",
    "    voxel_matrix=voxel_matrix,\n",
    "    voxel_size=voxel_size,\n",
    "    material_properties=material_properties,\n",
    "    boundary_conditions=basic_boundary_conditions,\n",
    "    visualization=True,\n",
    "    result_type='von_mises',\n",
    "    scale_factor=10.0  # Exaggerate deformation for visualization\n",
    ")\n",
    "\n",
    "print(\"Basic boundary conditions analysis complete.\")\n",
    "print(f\"Maximum displacement: {basic_results['max_displacement']:.6f} mm\")\n",
    "print(f\"Maximum von Mises stress: {basic_results['max_von_mises']:.2f} MPa\")"
   ]
  },
  {
   "cell_type": "markdown",
   "metadata": {},
   "source": [
    "### Visualize Basic Boundary Conditions Results"
   ]
  },
  {
   "cell_type": "code",
   "execution_count": null,
   "metadata": {},
   "outputs": [],
   "source": [
    "# Display the von Mises stress visualization and/or save it to file\n",
    "if 'visualization' in basic_results:\n",
    "    basic_results['visualization'].show()\n",
    "    \n",
    "    # Save the visualization to file\n",
    "    export_visualization(\n",
    "        basic_results['visualization'],\n",
    "        \"Results_volco/fea/basic_boundary_conditions.html\"\n",
    "    )\n",
    "    print(\"Visualization saved to Results_volco/fea/basic_boundary_conditions.html\")"
   ]
  },
  {
   "cell_type": "markdown",
   "metadata": {},
   "source": [
    "## 4. Expert Boundary Conditions Example\n",
    "\n",
    "Now we'll run the same analysis but using expert boundary conditions. This gives more control over how constraints are applied."
   ]
  },
  {
   "cell_type": "code",
   "execution_count": null,
   "metadata": {},
   "outputs": [],
   "source": [
    "# Define custom boundary conditions using expert mode\n",
    "def custom_constraint_function(nodes, elements):\n",
    "    # Get model dimensions directly from nodes\n",
    "    z_coords = nodes[:, 2]\n",
    "    min_z = np.min(z_coords)\n",
    "    max_z = np.max(z_coords)\n",
    "    \n",
    "    # Calculate model height\n",
    "    model_height = max_z - min_z\n",
    "    \n",
    "    # Calculate displacement as 1% of model height (same as basic example)\n",
    "    displacement_magnitude = model_height * 0.01\n",
    "    \n",
    "    # Create constraints dictionary\n",
    "    constraints = {}\n",
    "    \n",
    "    # Fix nodes on the bottom surface (within a small tolerance)\n",
    "    tolerance = 1e-6\n",
    "    for i in range(len(nodes)):\n",
    "        if abs(nodes[i, 2] - min_z) < tolerance:\n",
    "            constraints[i] = [0, 0, 0, 0, 0, 0]  # Fix all DOFs\n",
    "    \n",
    "    # Apply displacement to nodes on the top surface\n",
    "    for i in range(len(nodes)):\n",
    "        if abs(nodes[i, 2] - max_z) < tolerance:\n",
    "            constraints[i] = [None, None, -displacement_magnitude, None, None, None]\n",
    "    \n",
    "    return constraints\n",
    "\n",
    "# Define expert boundary conditions\n",
    "expert_boundary_conditions = {\n",
    "    'constraints': {\n",
    "        \"custom\": custom_constraint_function\n",
    "    }\n",
    "}\n",
    "\n",
    "# Run the analysis with expert boundary conditions\n",
    "print(\"\\nRunning FEA analysis with expert boundary conditions...\")\n",
    "expert_results = analyze_voxel_matrix(\n",
    "    voxel_matrix=voxel_matrix,\n",
    "    voxel_size=voxel_size,\n",
    "    material_properties=material_properties,\n",
    "    boundary_conditions=expert_boundary_conditions,\n",
    "    visualization=True,\n",
    "    result_type='von_mises',\n",
    "    scale_factor=10.0  # Exaggerate deformation for visualization\n",
    ")\n",
    "\n",
    "print(\"Expert boundary conditions analysis complete.\")\n",
    "print(f\"Maximum displacement: {expert_results['max_displacement']:.6f} mm\")\n",
    "print(f\"Maximum von Mises stress: {expert_results['max_von_mises']:.2f} MPa\")"
   ]
  },
  {
   "cell_type": "markdown",
   "metadata": {},
   "source": [
    "### Visualize Expert Boundary Conditions Results"
   ]
  },
  {
   "cell_type": "code",
   "execution_count": null,
   "metadata": {},
   "outputs": [],
   "source": [
    "# Display the von Mises stress visualization\n",
    "if 'visualization' in expert_results:\n",
    "    expert_results['visualization'].show()"
   ]
  },
  {
   "cell_type": "markdown",
   "metadata": {},
   "source": [
    "## 5. Compare Basic and Expert Results\n",
    "\n",
    "Let's compare the results from both approaches to verify they produce similar outcomes."
   ]
  },
  {
   "cell_type": "code",
   "execution_count": null,
   "metadata": {},
   "outputs": [],
   "source": [
    "# Compare maximum displacement and stress\n",
    "print(\"Comparison of Basic vs Expert Boundary Conditions:\")\n",
    "print(f\"Basic max displacement: {basic_results['max_displacement']:.6f} mm\")\n",
    "print(f\"Expert max displacement: {expert_results['max_displacement']:.6f} mm\")\n",
    "print(f\"Difference: {abs(basic_results['max_displacement'] - expert_results['max_displacement']):.6f} mm\")\n",
    "print()\n",
    "print(f\"Basic max von Mises stress: {basic_results['max_von_mises']:.2f} MPa\")\n",
    "print(f\"Expert max von Mises stress: {expert_results['max_von_mises']:.2f} MPa\")\n",
    "print(f\"Difference: {abs(basic_results['max_von_mises'] - expert_results['max_von_mises']):.2f} MPa\")"
   ]
  },
  {
   "cell_type": "markdown",
   "metadata": {},
   "source": [
    "## 6. Export Results to File\n",
    "\n",
    "Now we'll demonstrate how to save FEA results to a file for later use."
   ]
  },
  {
   "cell_type": "code",
   "execution_count": null,
   "metadata": {},
   "outputs": [],
   "source": [
    "# Run analysis and save results to file\n",
    "print(\"Running FEA analysis and saving results to file...\")\n",
    "saved_results = analyze_voxel_matrix(\n",
    "    voxel_matrix=voxel_matrix,\n",
    "    voxel_size=voxel_size,\n",
    "    material_properties=material_properties,\n",
    "    boundary_conditions=basic_boundary_conditions,  # Using basic boundary conditions\n",
    "    visualization=True,\n",
    "    result_type='von_mises',\n",
    "    scale_factor=10.0,\n",
    "    save_results=True,\n",
    "    save_path='Results_volco/fea/demo_results',\n",
    "    save_format='pickle'\n",
    ")\n",
    "\n",
    "print(f\"Results saved to: {saved_results['saved_file']}\")\n",
    "print(f\"Maximum displacement: {saved_results['max_displacement']:.6f} mm\")\n",
    "print(f\"Maximum von Mises stress: {saved_results['max_von_mises']:.2f} MPa\")"
   ]
  },
  {
   "cell_type": "markdown",
   "metadata": {},
   "source": [
    "## 7. Import Results from File\n",
    "\n",
    "Now we'll demonstrate how to load the saved results and visualize them."
   ]
  },
  {
   "cell_type": "code",
   "execution_count": null,
   "metadata": {},
   "outputs": [],
   "source": [
    "# Load results from file\n",
    "print(\"Loading FEA results from file...\")\n",
    "loaded_results = load_fea_results('Results_volco/fea/demo_results.pkl')\n",
    "\n",
    "# Display key information from the loaded results\n",
    "print(\"\\nLoaded FEA Results Summary:\")\n",
    "print(f\"Number of nodes: {loaded_results['nodes'].shape[0]}\")\n",
    "print(f\"Number of elements: {loaded_results['elements'].shape[0]}\")\n",
    "print(f\"Maximum displacement: {loaded_results['max_displacement']:.6f} mm\")\n",
    "print(f\"Maximum von Mises stress: {loaded_results['max_von_mises']:.2f} MPa\")"
   ]
  },
  {
   "cell_type": "markdown",
   "metadata": {},
   "source": [
    "### Create Visualization from Loaded Results"
   ]
  },
  {
   "cell_type": "code",
   "execution_count": null,
   "metadata": {},
   "outputs": [],
   "source": [
    "# Create visualization from loaded results\n",
    "print(\"Creating visualization from loaded results...\")\n",
    "viz = visualize_fea(\n",
    "    nodes=loaded_results['nodes'],\n",
    "    elements=loaded_results['elements'],\n",
    "    displacements=loaded_results['displacements'],\n",
    "    von_mises=loaded_results['von_mises'],\n",
    "    result_type='von_mises',\n",
    "    scale_factor=10.0,\n",
    "    show_undeformed=True,  # Show both original and deformed meshes\n",
    "    original_opacity=0.3   # Set transparency of original mesh\n",
    ")\n",
    "\n",
    "# Display the visualization\n",
    "viz.show()"
   ]
  },
  {
   "cell_type": "markdown",
   "metadata": {},
   "source": [
    "## 8. Create Displacement Visualization\n",
    "\n",
    "Finally, let's create a visualization showing the displacement magnitude instead of stress."
   ]
  },
  {
   "cell_type": "code",
   "execution_count": null,
   "metadata": {},
   "outputs": [],
   "source": [
    "# Create displacement visualization\n",
    "print(\"Creating displacement visualization...\")\n",
    "disp_viz = visualize_fea(\n",
    "    nodes=loaded_results['nodes'],\n",
    "    elements=loaded_results['elements'],\n",
    "    displacements=loaded_results['displacements'],\n",
    "    von_mises=loaded_results['von_mises'],\n",
    "    result_type='displacement',\n",
    "    scale_factor=10.0,\n",
    "    show_undeformed=False\n",
    ")\n",
    "\n",
    "# Display the visualization\n",
    "disp_viz.show()"
   ]
  },
  {
   "cell_type": "markdown",
   "metadata": {},
   "source": [
    "## Summary\n",
    "\n",
    "In this notebook, we've demonstrated:\n",
    "\n",
    "1. Running a VOLCO simulation to generate a voxel model\n",
    "2. Applying basic boundary conditions for a 1% compression test\n",
    "3. Using expert boundary conditions for the same test\n",
    "4. Exporting FEA results to a file\n",
    "5. Importing FEA results from a file\n",
    "6. Creating different visualizations of the results\n",
    "\n",
    "The results show that both basic and expert boundary conditions produce similar results for this simple compression test, but the expert mode offers more flexibility for complex scenarios."
   ]
  }
 ],
 "metadata": {
  "kernelspec": {
   "display_name": "volco-numpy2",
   "language": "python",
   "name": "python3"
  },
  "language_info": {
   "codemirror_mode": {
    "name": "ipython",
    "version": 3
   },
   "file_extension": ".py",
   "mimetype": "text/x-python",
   "name": "python",
   "nbconvert_exporter": "python",
   "pygments_lexer": "ipython3",
   "version": "3.10.16"
  }
 },
 "nbformat": 4,
 "nbformat_minor": 4
}
