{
 "cells": [
  {
   "cell_type": "markdown",
   "metadata": {},
   "source": [
    "# Volco Simulation in Jupyter Notebook\n",
    "\n",
    "This notebook demonstrates how to run the Volco simulation directly from a Jupyter notebook using the new `run_simulation` function."
   ]
  },
  {
   "cell_type": "code",
   "execution_count": null,
   "metadata": {},
   "outputs": [],
   "source": [
    "import json\n",
    "import sys\n",
    "import os\n",
    "import numpy as np\n",
    "\n",
    "# Add the parent directory to the path so we can import volco\n",
    "# This only applies if this notebook is run directly from the \n",
    "# examples directory. If you run it from the root directory, you\n",
    "# don't need this.\n",
    "sys.path.append(os.path.abspath('..'))\n",
    "\n",
    "from volco import run_simulation"
   ]
  },
  {
   "cell_type": "markdown",
   "metadata": {},
   "source": [
    "## Example 1: Using File Paths\n",
    "\n",
    "As with running volco from the command line or a python file, you can use file paths for settings and gcode if you prefer:"
   ]
  },
  {
   "cell_type": "code",
   "execution_count": null,
   "metadata": {},
   "outputs": [],
   "source": [
    "# Define file paths\n",
    "gcode_path = '../examples/gcode_example.gcode'\n",
    "printer_config_path = '../examples/printer_settings.json'\n",
    "sim_config_path = '../examples/simulation_settings.json'\n",
    "\n",
    "# Run the simulation using file paths\n",
    "voxel_space, output = run_simulation(\n",
    "    gcode_path=gcode_path,\n",
    "    printer_config_path=printer_config_path,\n",
    "    sim_config_path=sim_config_path\n",
    ")\n",
    "\n",
    "# the simulation output can be used to generate a mesh, export \n",
    "# to STL, or visualize the voxel space (shown later in this doc)\n",
    "\n",
    "# Generate the mesh using the mesh module functionality\n",
    "mesh = output.generate_mesh()\n",
    "\n",
    "# Export to STL if needed\n",
    "output.export_mesh_to_stl(mesh)\n",
    "\n",
    "# Visualize the voxel space\n",
    "fig = output.visualize_mesh(mesh, visualizer='trimesh', color_scheme='cyan_blue')\n",
    "fig.show()"
   ]
  },
  {
   "cell_type": "markdown",
   "metadata": {},
   "source": [
    "## Example 2: Using Python Variables\n",
    "\n",
    "You can also pass the G-code content and configuration dictionaries directly:"
   ]
  },
  {
   "cell_type": "code",
   "execution_count": null,
   "metadata": {},
   "outputs": [],
   "source": [
    "# Load G-code content from file\n",
    "with open('../examples/gcode_example.gcode', 'r') as f:\n",
    "    gcode_content = f.read()\n",
    "\n",
    "# add new lines to the G-code \n",
    "gcode_content += '\\nG0 F7200 X12.0 Y10.0 Z1.0'\n",
    "gcode_content += '\\nG1 F1000 X14.0 E0.133041'\n",
    "\n",
    "# Load printer configuration from file\n",
    "with open('../examples/printer_settings.json', 'r') as f:\n",
    "    printer_config = json.load(f)\n",
    "\n",
    "# Load simulation configuration from file\n",
    "with open('../examples/simulation_settings.json', 'r') as f:\n",
    "    sim_config = json.load(f)\n",
    "\n",
    "# Run the simulation using Python variables\n",
    "voxel_space, output = run_simulation(\n",
    "    gcode=gcode_content,\n",
    "    printer_config=printer_config,\n",
    "    sim_config=sim_config\n",
    ")\n",
    "mesh = output.generate_mesh()\n",
    "output.export_mesh_to_stl(mesh)"
   ]
  },
  {
   "cell_type": "markdown",
   "metadata": {},
   "source": [
    "## Example 3: Creating Configuration Dictionaries Directly\n",
    "\n",
    "You can also create the configuration dictionaries directly in Python:"
   ]
  },
  {
   "cell_type": "code",
   "execution_count": null,
   "metadata": {},
   "outputs": [],
   "source": [
    "# Create printer configuration dictionary\n",
    "custom_printer_config = {\n",
    "    \"nozzle_jerk_speed\": 1.0,\n",
    "    \"extruder_jerk_speed\": 5.0,\n",
    "    \"nozzle_acceleration\": 120.0,\n",
    "    \"extruder_acceleration\": 1200.0,\n",
    "    \"feedstock_filament_diameter\": 1.75,\n",
    "    \"nozzle_diameter\": 0.4\n",
    "}\n",
    "\n",
    "# Create simulation configuration dictionary\n",
    "custom_sim_config = {\n",
    "    \"voxel_size\": 0.05,\n",
    "    \"step_size\": 0.1,\n",
    "    \"x_offset\": 2.0,\n",
    "    \"y_offset\": 2.0,\n",
    "    \"z_offset\": 0.5,\n",
    "    \"simulation_name\": \"Test_volco\",\n",
    "    \"results_folder\": \"Results_volco\",\n",
    "    \"radius_increment\": 0.1,\n",
    "    \"solver_tolerance\": 0.0001,\n",
    "    \"x_crop\": [\"all\", \"all\"],\n",
    "    \"y_crop\": [\"all\", \"all\"],\n",
    "    \"z_crop\": [0.0, \"all\"],\n",
    "    \"consider_acceleration\": True\n",
    "}\n",
    "\n",
    "gcode_content = \"\"\"M83\n",
    "G0 X10 Y10 Z0.3\n",
    "G1 F7200 X10.0 Y10.0 Z0.3\n",
    "G1 F1000 X14.0 E0.133041\n",
    "G0 F7200 X12.0 Y8.0 Z0.5\n",
    "G1 F1000 Y12.0 E0.133041\n",
    "G1 F7200 X10.0 Y10.0 Z0.7\n",
    "G1 F1000 X12.0 E0.067\n",
    "G1 F1000 X14 Y8.0 E0.1\n",
    "G1 Z4 E0.2\"\"\"\n",
    "\n",
    "# Run the simulation with custom configurations\n",
    "voxel_space, output = run_simulation(\n",
    "    gcode=gcode_content,\n",
    "    printer_config=custom_printer_config,\n",
    "    sim_config=custom_sim_config,\n",
    ")\n",
    "mesh = output.generate_mesh()\n",
    "output.export_mesh_to_stl(mesh)"
   ]
  },
  {
   "cell_type": "markdown",
   "metadata": {},
   "source": [
    "## Working with the Results\n",
    "\n",
    "The `run_simulation` function returns the `voxel_space` and `output` objects (SimulationOutput instance), which you can use for further analysis:"
   ]
  },
  {
   "cell_type": "code",
   "execution_count": null,
   "metadata": {},
   "outputs": [],
   "source": [
    "# Access voxel space dimensions\n",
    "print(f\"Voxel space dimensions: {voxel_space.dimensions}\")"
   ]
  },
  {
   "cell_type": "code",
   "execution_count": null,
   "metadata": {},
   "outputs": [],
   "source": [
    "# Visualize the mesh with plotly or trimesh amnd color_scheme 'cyan_blue' or 'viridis'\n",
    "fig = output.visualize_mesh(mesh, visualizer='plotly', color_scheme='cyan_blue')\n",
    "fig.show()"
   ]
  }
 ],
 "metadata": {
  "kernelspec": {
   "display_name": "volco",
   "language": "python",
   "name": "python3"
  },
  "language_info": {
   "codemirror_mode": {
    "name": "ipython",
    "version": 3
   },
   "file_extension": ".py",
   "mimetype": "text/x-python",
   "name": "python",
   "nbconvert_exporter": "python",
   "pygments_lexer": "ipython3",
   "version": "3.9.21"
  }
 },
 "nbformat": 4,
 "nbformat_minor": 4
}
