{
 "cells": [
  {
   "cell_type": "markdown",
   "metadata": {},
   "source": [
    "# Volco Simulation in Jupyter Notebook\n",
    "\n",
    "This notebook demonstrates how to run the Volco simulation directly from a Jupyter notebook using the new `run_simulation` function."
   ]
  },
  {
   "cell_type": "code",
   "execution_count": null,
   "metadata": {},
   "outputs": [],
   "source": [
    "import json\n",
    "import sys\n",
    "import os\n",
    "import numpy as np\n",
    "\n",
    "# Add the parent directory to the path so we can import volco\n",
    "# This only applies if this notebook is run directly from the \n",
    "# examples directory. If you run it from the root directory, you\n",
    "# don't need this, nor if you've installed volco in python.\n",
    "sys.path.append(os.path.abspath('..'))\n",
    "\n",
    "from volco import run_simulation"
   ]
  },
  {
   "cell_type": "markdown",
   "metadata": {},
   "source": [
    "## Example 1: Using File Paths\n",
    "\n",
    "As with running volco from the command line or a python file, you can use file paths for settings and gcode if you prefer:"
   ]
  },
  {
   "cell_type": "code",
   "execution_count": null,
   "metadata": {},
   "outputs": [],
   "source": [
    "# Define file paths\n",
    "gcode_path = 'gcode_example.gcode'\n",
    "printer_config_path = 'printer_settings.json'\n",
    "sim_config_path = 'simulation_settings.json'\n",
    "\n",
    "# Run the simulation using file paths\n",
    "output = run_simulation(\n",
    "    gcode_path=gcode_path,\n",
    "    printer_config_path=printer_config_path,\n",
    "    sim_config_path=sim_config_path\n",
    ")\n",
    "\n",
    "# Export to STL if needed\n",
    "output.export_mesh_to_stl()"
   ]
  },
  {
   "cell_type": "markdown",
   "metadata": {},
   "source": [
    "## Example 2: Using Python Variables\n",
    "\n",
    "You can also pass the G-code content and configuration dictionaries directly:"
   ]
  },
  {
   "cell_type": "code",
   "execution_count": null,
   "metadata": {},
   "outputs": [],
   "source": [
    "# Load G-code content from file\n",
    "with open('gcode_example.gcode', 'r') as f:\n",
    "    gcode_content = f.read()\n",
    "\n",
    "# add new lines to the G-code \n",
    "gcode_content += '\\nG0 F7200 X12.0 Y10.0 Z1.0'\n",
    "gcode_content += '\\nG1 F1000 X14.0 E0.133041'\n",
    "\n",
    "# Load printer configuration from file\n",
    "with open('printer_settings.json', 'r') as f:\n",
    "    printer_config = json.load(f)\n",
    "\n",
    "# Load simulation configuration from file\n",
    "with open('simulation_settings.json', 'r') as f:\n",
    "    sim_config = json.load(f)\n",
    "\n",
    "# Run the simulation using Python variables\n",
    "output = run_simulation(\n",
    "    gcode=gcode_content,\n",
    "    printer_config=printer_config,\n",
    "    sim_config=sim_config\n",
    ")\n",
    "output.export_mesh_to_stl()"
   ]
  },
  {
   "cell_type": "markdown",
   "metadata": {},
   "source": [
    "## Example 3: Creating Configuration Dictionaries Directly\n",
    "\n",
    "You can also create the configuration dictionaries directly in Python:"
   ]
  },
  {
   "cell_type": "code",
   "execution_count": null,
   "metadata": {},
   "outputs": [],
   "source": [
    "# Create printer configuration dictionary\n",
    "custom_printer_config = {\n",
    "    \"nozzle_jerk_speed\": 5.0, # deliberately set to a low value resulting in excess deposition at corner/start/end points \n",
    "    \"extruder_jerk_speed\": 5.0,\n",
    "    \"nozzle_acceleration\": 150.0, # deliberately set to a low value resulting in excess deposition at corner/start/end points \n",
    "    \"extruder_acceleration\": 1200.0,\n",
    "    \"feedstock_filament_diameter\": 1.75,\n",
    "    \"nozzle_diameter\": 0.4\n",
    "}\n",
    "\n",
    "# Create simulation configuration dictionary\n",
    "custom_sim_config = {\n",
    "    \"voxel_size\": 0.05,\n",
    "    \"step_size\": 0.1,\n",
    "    \"x_offset\": 2.0,\n",
    "    \"y_offset\": 2.0,\n",
    "    \"z_offset\": 0.5,\n",
    "    \"simulation_name\": \"Test_volco\",\n",
    "    \"results_folder\": \"Results_volco\",\n",
    "    \"radius_increment\": 0.1,\n",
    "    \"solver_tolerance\": 0.0001,\n",
    "    \"x_crop\": [11, 13],\n",
    "    \"y_crop\": [9, 11],\n",
    "    \"z_crop\": [0.0, \"all\"],\n",
    "    \"consider_acceleration\": True,\n",
    "    \"stl_ascii\": False\n",
    "}\n",
    "\n",
    "gcode_content = \"\"\"M83\n",
    "G0 X10 Y10 Z0.3\n",
    "G1 F7200 X10.0 Y10.0 Z0.3\n",
    "G1 F1000 X14.0 E0.133041\n",
    "G0 F7200 X12.0 Y8.0 Z0.5\n",
    "G1 F1000 Y12.0 E0.133041\n",
    "G1 F7200 X10.0 Y10.0 Z0.7\n",
    "G1 F1000 X12.0 E0.067\n",
    "G1 F1000 X14 Y8.0 E0.1\"\"\"\n",
    "\n",
    "# Run the simulation with custom configurations\n",
    "output = run_simulation(\n",
    "    gcode=gcode_content,\n",
    "    printer_config=custom_printer_config,\n",
    "    sim_config=custom_sim_config,\n",
    ")\n",
    "output.export_mesh_to_stl()"
   ]
  },
  {
   "cell_type": "markdown",
   "metadata": {},
   "source": [
    "## Working with the Results\n",
    "\n",
    "The `run_simulation` function returns the `voxel_space` and `output` objects (SimulationOutput instance), which you can use for further analysis and visualisation. The use of `output.export_mesh_to_stl()` is already demonstrated above but it may be desirable to directly output the voxel array rather than an stl for some use cases."
   ]
  },
  {
   "cell_type": "markdown",
   "metadata": {},
   "source": [
    "Visualise in a notebook:"
   ]
  },
  {
   "cell_type": "code",
   "execution_count": null,
   "metadata": {},
   "outputs": [],
   "source": [
    "# Visualize the mesh with 'plotly' or 'trimesh' and color_scheme 'cyan_blue' or 'viridis'\n",
    "fig = output.visualize_mesh(visualizer='plotly', color_scheme='cyan_blue')\n",
    "fig.show()"
   ]
  },
  {
   "cell_type": "markdown",
   "metadata": {},
   "source": [
    "Analyse and process data:"
   ]
  },
  {
   "cell_type": "code",
   "execution_count": null,
   "metadata": {},
   "outputs": [],
   "source": [
    "# Access voxel space dimensions\n",
    "print(f\"Voxel space dimensions: {output.voxel_space.dimensions}\")\n",
    "# Access the cropped voxel space dimensions. E.g. calculated volume fraction of filled voxels to identify porosity\n",
    "print(f\"Volumetric porosity of cropped voxel space: {100*(1-np.sum(output.cropped_voxel_space/output.cropped_voxel_space.size)):.2f}%\")\n",
    "# check if the voxel space has entirely unfilled columns (top-down porosity) and identify top-down porosity\n",
    "# get a 2d top-down representation of the voxel space with 1s if there are any filled voxels in the column\n",
    "top_down_voxel_space = np.sum(output.cropped_voxel_space, axis=2)\n",
    "# rotation is required to get the correct orientation for x and y\n",
    "top_down_voxel_space = np.rot90(top_down_voxel_space, k=1, axes=(0, 1))\n",
    "# convert from sums per column to 1s to get a binary matrix\n",
    "top_down_voxel_space[top_down_voxel_space > 0] = 1\n",
    "print(f\"Top-down porosity: {100*(np.sum(top_down_voxel_space == 0)/top_down_voxel_space.size):.2f}%\")\n",
    "# create a 2D plot of the top-down view\n",
    "import plotly.express as px\n",
    "fig = px.imshow(top_down_voxel_space, color_continuous_scale='gray', aspect='equal')\n",
    "fig.update_layout(xaxis_title='X-axis (columns)',yaxis_title='Y-axis (rows)',coloraxis_showscale=False)\n",
    "fig.show()"
   ]
  }
 ],
 "metadata": {
  "kernelspec": {
   "display_name": "volco",
   "language": "python",
   "name": "python3"
  },
  "language_info": {
   "codemirror_mode": {
    "name": "ipython",
    "version": 3
   },
   "file_extension": ".py",
   "mimetype": "text/x-python",
   "name": "python",
   "nbconvert_exporter": "python",
   "pygments_lexer": "ipython3",
   "version": "3.9.21"
  }
 },
 "nbformat": 4,
 "nbformat_minor": 4
}
